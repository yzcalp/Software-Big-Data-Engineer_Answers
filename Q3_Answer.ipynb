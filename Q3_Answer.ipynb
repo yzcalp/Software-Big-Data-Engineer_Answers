{
 "cells": [
  {
   "cell_type": "code",
   "execution_count": 1,
   "id": "d17e2c16-f8f8-4f39-a997-dcd31c1a77db",
   "metadata": {},
   "outputs": [],
   "source": [
    "import pandas as pd"
   ]
  },
  {
   "cell_type": "code",
   "execution_count": 2,
   "id": "afd57add-cca2-43ef-8c2c-2e0c83d8b60b",
   "metadata": {},
   "outputs": [],
   "source": [
    "df = pd.read_csv(\"exhibitA-input.csv\",sep = \"\\t\",header = 0)"
   ]
  },
  {
   "cell_type": "code",
   "execution_count": 3,
   "id": "fa9f76b3-780d-4671-9856-d597f53eb403",
   "metadata": {},
   "outputs": [],
   "source": [
    "# work with needed time period\n",
    "df=df[(df['PLAY_TS'] >= '10/08/2016') & (df['PLAY_TS'] < '11/08/2016')]"
   ]
  },
  {
   "cell_type": "code",
   "execution_count": 4,
   "id": "1bb99937-a974-493e-810a-7d8302989937",
   "metadata": {},
   "outputs": [],
   "source": [
    "# How many IDs are there ? \n",
    "ID_len = len(list(set(df['CLIENT_ID'])))"
   ]
  },
  {
   "cell_type": "code",
   "execution_count": 5,
   "id": "42ea617f-07a0-4212-b491-919074c6dcee",
   "metadata": {},
   "outputs": [],
   "source": [
    "lista = []\n",
    "for i in range(1,ID_len+1):\n",
    "    df1 = df[df['CLIENT_ID'] == i]\n",
    "    #  For every client find how many distinct songs were played and added to a list  \n",
    "    lista.extend([len(df1['SONG_ID'].value_counts(dropna=False))])\n",
    "    \n",
    "my_dict={item: lista.count(item) for item in lista}"
   ]
  },
  {
   "cell_type": "markdown",
   "id": "a11c19e2-0b45-4f92-af0b-cdd88f4dd12b",
   "metadata": {},
   "source": [
    "DISTINCT_PLAY_COUNT and CLIENT_COUNT values are printed below \n",
    "key = DISTINCT_PLAY_COUNT\n",
    "value =  CLIENT_COUNT\n"
   ]
  },
  {
   "cell_type": "code",
   "execution_count": 6,
   "id": "7d83f2a3-ed08-47d5-b9d4-a9438df6d9c4",
   "metadata": {},
   "outputs": [
    {
     "data": {
      "text/plain": [
       "{324: 8,\n",
       " 358: 27,\n",
       " 360: 18,\n",
       " 365: 8,\n",
       " 362: 22,\n",
       " 377: 8,\n",
       " 317: 9,\n",
       " 355: 19,\n",
       " 352: 29,\n",
       " 307: 3,\n",
       " 375: 5,\n",
       " 347: 35,\n",
       " 354: 29,\n",
       " 337: 24,\n",
       " 340: 14,\n",
       " 328: 16,\n",
       " 329: 17,\n",
       " 349: 18,\n",
       " 367: 9,\n",
       " 345: 18,\n",
       " 331: 14,\n",
       " 336: 24,\n",
       " 339: 16,\n",
       " 308: 5,\n",
       " 313: 3,\n",
       " 350: 27,\n",
       " 357: 17,\n",
       " 368: 10,\n",
       " 335: 22,\n",
       " 346: 22,\n",
       " 343: 21,\n",
       " 364: 14,\n",
       " 310: 4,\n",
       " 342: 19,\n",
       " 372: 4,\n",
       " 376: 4,\n",
       " 333: 16,\n",
       " 341: 18,\n",
       " 323: 11,\n",
       " 318: 9,\n",
       " 351: 16,\n",
       " 327: 11,\n",
       " 334: 21,\n",
       " 325: 7,\n",
       " 330: 19,\n",
       " 348: 26,\n",
       " 361: 13,\n",
       " 314: 4,\n",
       " 306: 5,\n",
       " 359: 13,\n",
       " 321: 13,\n",
       " 344: 24,\n",
       " 387: 3,\n",
       " 389: 3,\n",
       " 369: 7,\n",
       " 371: 4,\n",
       " 326: 9,\n",
       " 353: 16,\n",
       " 322: 14,\n",
       " 388: 1,\n",
       " 319: 10,\n",
       " 378: 3,\n",
       " 320: 6,\n",
       " 356: 14,\n",
       " 309: 3,\n",
       " 315: 6,\n",
       " 312: 3,\n",
       " 302: 2,\n",
       " 338: 26,\n",
       " 373: 8,\n",
       " 305: 5,\n",
       " 381: 3,\n",
       " 370: 5,\n",
       " 363: 8,\n",
       " 366: 4,\n",
       " 332: 13,\n",
       " 316: 5,\n",
       " 384: 2,\n",
       " 383: 1,\n",
       " 379: 2,\n",
       " 385: 2,\n",
       " 311: 1,\n",
       " 281: 1,\n",
       " 390: 1,\n",
       " 382: 4,\n",
       " 300: 2,\n",
       " 374: 2,\n",
       " 298: 1,\n",
       " 301: 2,\n",
       " 392: 1,\n",
       " 293: 1,\n",
       " 303: 2,\n",
       " 299: 1,\n",
       " 391: 1,\n",
       " 386: 1,\n",
       " 393: 1,\n",
       " 304: 1}"
      ]
     },
     "execution_count": 6,
     "metadata": {},
     "output_type": "execute_result"
    }
   ],
   "source": [
    "my_dict"
   ]
  }
 ],
 "metadata": {
  "kernelspec": {
   "display_name": "Python 3",
   "language": "python",
   "name": "python3"
  },
  "language_info": {
   "codemirror_mode": {
    "name": "ipython",
    "version": 3
   },
   "file_extension": ".py",
   "mimetype": "text/x-python",
   "name": "python",
   "nbconvert_exporter": "python",
   "pygments_lexer": "ipython3",
   "version": "3.8.8"
  }
 },
 "nbformat": 4,
 "nbformat_minor": 5
}
